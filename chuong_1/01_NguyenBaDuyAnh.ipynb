{
 "cells": [
  {
   "cell_type": "code",
   "execution_count": 2,
   "metadata": {},
   "outputs": [],
   "source": [
    "import sqlite3\n",
    "\n",
    "# Kết nối đến SQLite (hoặc tạo mới nếu chưa tồn tại)\n",
    "conn = sqlite3.connect(\"nhanvien.db\")\n",
    "cursor = conn.cursor()\n",
    "\n",
    "# Tạo bảng NhanVien\n",
    "cursor.execute('''\n",
    "    CREATE TABLE IF NOT EXISTS NhanVien (\n",
    "        MaNV INTEGER PRIMARY KEY,\n",
    "        HoTen TEXT NOT NULL,\n",
    "        Tuoi INTEGER NOT NULL,\n",
    "        PhongBan TEXT NOT NULL\n",
    "    )\n",
    "''')\n",
    "\n",
    "# Dữ liệu cần chèn vào bảng\n",
    "nhanvien_data = [\n",
    "    (1, 'Nguyen Van A', 30, 'Ke Toan'),\n",
    "    (2, 'Tran Thi B', 25, 'Nhan Su'),\n",
    "    (3, 'Le Van C', 28, 'IT'),\n",
    "    (4, 'Pham Thi D', 32, 'Ke Toan'),\n",
    "    (5, 'Vu Van E', 26, 'IT'),\n",
    "    (6, 'Nguyen Thi F', 29, 'Marketing'),\n",
    "    (7, 'Le Thi G', 27, 'Nhan Su'),\n",
    "    (8, 'Hoang Van H', 35, 'Ke Toan'),\n",
    "    (9, 'Pham Van I', 33, 'Marketing'),\n",
    "    (10, 'Tran Van J', 24, 'IT'),\n",
    "    (11, 'Dang Thi K', 31, 'Nhan Su'),\n",
    "    (12, 'Nguyen Van L', 28, 'Ke Toan'),\n",
    "    (13, 'Tran Thi M', 26, 'Marketing'),\n",
    "    (14, 'Pham Van N', 30, 'Nhan Su'),\n",
    "    (15, 'Hoang Thi O', 27, 'IT')\n",
    "]\n",
    "\n",
    "\n",
    "\n",
    "\n",
    "\n"
   ]
  },
  {
   "cell_type": "code",
   "execution_count": 3,
   "metadata": {},
   "outputs": [
    {
     "ename": "IntegrityError",
     "evalue": "UNIQUE constraint failed: NhanVien.MaNV",
     "output_type": "error",
     "traceback": [
      "\u001b[1;31m---------------------------------------------------------------------------\u001b[0m",
      "\u001b[1;31mIntegrityError\u001b[0m                            Traceback (most recent call last)",
      "Cell \u001b[1;32mIn[3], line 2\u001b[0m\n\u001b[0;32m      1\u001b[0m \u001b[38;5;66;03m# Chèn dữ liệu vào bảng\u001b[39;00m\n\u001b[1;32m----> 2\u001b[0m \u001b[43mcursor\u001b[49m\u001b[38;5;241;43m.\u001b[39;49m\u001b[43mexecutemany\u001b[49m\u001b[43m(\u001b[49m\u001b[38;5;124;43m\"\u001b[39;49m\u001b[38;5;124;43mINSERT INTO NhanVien (MaNV, HoTen, Tuoi, PhongBan) VALUES (?, ?, ?, ?)\u001b[39;49m\u001b[38;5;124;43m\"\u001b[39;49m\u001b[43m,\u001b[49m\u001b[43m \u001b[49m\u001b[43mnhanvien_data\u001b[49m\u001b[43m)\u001b[49m\n\u001b[0;32m      4\u001b[0m \u001b[38;5;66;03m# Lưu thay đổi và đóng kết nối\u001b[39;00m\n\u001b[0;32m      5\u001b[0m conn\u001b[38;5;241m.\u001b[39mcommit()\n",
      "\u001b[1;31mIntegrityError\u001b[0m: UNIQUE constraint failed: NhanVien.MaNV"
     ]
    }
   ],
   "source": [
    "# Chèn dữ liệu vào bảng\n",
    "cursor.executemany(\"INSERT INTO NhanVien (MaNV, HoTen, Tuoi, PhongBan) VALUES (?, ?, ?, ?)\", nhanvien_data)\n",
    "\n",
    "# Lưu thay đổi và đóng kết nối\n",
    "conn.commit()\n",
    "conn.close()\n",
    "\n",
    "print(\"Dữ liệu đã được chèn thành công!\")"
   ]
  },
  {
   "cell_type": "code",
   "execution_count": 4,
   "metadata": {},
   "outputs": [
    {
     "name": "stdout",
     "output_type": "stream",
     "text": [
      "Thông tin của nhân viên: [(1, 'Nguyen Van A', 30, 'Ke Toan'), (2, 'Tran Thi B', 25, 'Nhan Su'), (3, 'Le Van C', 28, 'IT'), (4, 'Pham Thi D', 32, 'Ke Toan'), (5, 'Vu Van E', 26, 'IT'), (6, 'Nguyen Thi F', 29, 'Marketing'), (7, 'Le Thi G', 27, 'Nhan Su'), (8, 'Hoang Van H', 35, 'Ke Toan'), (9, 'Pham Van I', 33, 'Marketing'), (10, 'Tran Van J', 24, 'IT'), (11, 'Dang Thi K', 31, 'Nhan Su'), (12, 'Nguyen Van L', 28, 'Ke Toan'), (13, 'Tran Thi M', 26, 'Marketing'), (14, 'Pham Van N', 30, 'Nhan Su'), (15, 'Hoang Thi O', 27, 'IT')]\n"
     ]
    }
   ],
   "source": [
    "# 3. Lấy toàn bộ thông tin của nhân viên trong bảng NhanVien\n",
    "cursor.execute(\"SELECT * FROM NhanVien\")\n",
    "info=cursor.fetchall()\n",
    "print(\"Thông tin của nhân viên:\",info)"
   ]
  },
  {
   "cell_type": "code",
   "execution_count": 6,
   "metadata": {},
   "outputs": [
    {
     "name": "stdout",
     "output_type": "stream",
     "text": [
      "Nhân viên phòng IT: [('Le Van C', 28), ('Vu Van E', 26), ('Tran Van J', 24), ('Hoang Thi O', 27)]\n"
     ]
    }
   ],
   "source": [
    "# 4.Lấy HoTen và Tuoi của nhân viên trong phòng IT\n",
    "cursor.execute(\"SELECT HoTen, Tuoi FROM NhanVien WHERE PhongBan = 'IT'\")\n",
    "it_employees = cursor.fetchall()\n",
    "print(\"Nhân viên phòng IT:\", it_employees)"
   ]
  },
  {
   "cell_type": "code",
   "execution_count": 5,
   "metadata": {},
   "outputs": [
    {
     "name": "stdout",
     "output_type": "stream",
     "text": [
      "Nhân viên trên 25 tuổi: [(1, 'Nguyen Van A', 30, 'Ke Toan'), (3, 'Le Van C', 28, 'IT'), (4, 'Pham Thi D', 32, 'Ke Toan'), (5, 'Vu Van E', 26, 'IT'), (6, 'Nguyen Thi F', 29, 'Marketing'), (7, 'Le Thi G', 27, 'Nhan Su'), (8, 'Hoang Van H', 35, 'Ke Toan'), (9, 'Pham Van I', 33, 'Marketing'), (11, 'Dang Thi K', 31, 'Nhan Su'), (12, 'Nguyen Van L', 28, 'Ke Toan'), (13, 'Tran Thi M', 26, 'Marketing'), (14, 'Pham Van N', 30, 'Nhan Su'), (15, 'Hoang Thi O', 27, 'IT')]\n"
     ]
    }
   ],
   "source": [
    "# 5. Tìm nhân viên có độ tuổi lớn hơn 25\n",
    "cursor.execute(\"SELECT * FROM NhanVien WHERE Tuoi > 25\")\n",
    "employees_above_25 = cursor.fetchall()\n",
    "print(\"Nhân viên trên 25 tuổi:\", employees_above_25)"
   ]
  },
  {
   "cell_type": "code",
   "execution_count": 6,
   "metadata": {},
   "outputs": [
    {
     "name": "stdout",
     "output_type": "stream",
     "text": [
      "Nhân viên lớn tuổi nhất theo phòng ban: [('IT', 'Le Van C', 28), ('Ke Toan', 'Hoang Van H', 35), ('Marketing', 'Pham Van I', 33), ('Nhan Su', 'Dang Thi K', 31)]\n"
     ]
    }
   ],
   "source": [
    "# 6. Cho biết nhân viên lớn tuổi nhất của các PhongBan\n",
    "cursor.execute('''\n",
    "    SELECT PhongBan, HoTen, MAX(Tuoi) \n",
    "    FROM NhanVien \n",
    "    GROUP BY PhongBan\n",
    "''')\n",
    "oldest_per_department = cursor.fetchall()\n",
    "print(\"Nhân viên lớn tuổi nhất theo phòng ban:\", oldest_per_department)"
   ]
  },
  {
   "cell_type": "code",
   "execution_count": 9,
   "metadata": {},
   "outputs": [
    {
     "name": "stdout",
     "output_type": "stream",
     "text": [
      "(3, 'Le Van C', 28, 'Marketing')\n"
     ]
    }
   ],
   "source": [
    "# 7. Chuyển đổi thông tin PhongBan của nhân viên \" Le Van C \" từ \"IT\" sang \"Marketing\"\n",
    "cursor.execute(\"UPDATE NhanVien SET PhongBan = 'Marketing' WHERE HoTen = 'Le Van C'\")\n",
    "cursor.execute('''SELECT * FROM NhanVien WHERE HoTen=\"Le Van C\"''')\n",
    "rows=cursor.fetchall()\n",
    "for row in rows:\n",
    "    print(row)"
   ]
  },
  {
   "cell_type": "code",
   "execution_count": 8,
   "metadata": {},
   "outputs": [
    {
     "data": {
      "text/plain": [
       "<sqlite3.Cursor at 0x2a3a2c56dc0>"
      ]
     },
     "execution_count": 8,
     "metadata": {},
     "output_type": "execute_result"
    }
   ],
   "source": [
    "# 8. Xóa nhân viên có MaNV = 2\n",
    "cursor.execute(\"DELETE FROM NhanVien WHERE MaNV = 2\")\n"
   ]
  },
  {
   "cell_type": "code",
   "execution_count": 9,
   "metadata": {},
   "outputs": [
    {
     "name": "stdout",
     "output_type": "stream",
     "text": [
      "Số nhân viên theo phòng ban: [('IT', 3), ('Ke Toan', 4), ('Marketing', 4), ('Nhan Su', 3)]\n"
     ]
    }
   ],
   "source": [
    "# Đếm số nhân viên theo từng phòng ban\n",
    "cursor.execute(\"SELECT PhongBan, COUNT(*) FROM NhanVien GROUP BY PhongBan\")\n",
    "department_counts = cursor.fetchall()\n",
    "print(\"Số nhân viên theo phòng ban:\", department_counts)"
   ]
  },
  {
   "cell_type": "code",
   "execution_count": 10,
   "metadata": {},
   "outputs": [
    {
     "name": "stdout",
     "output_type": "stream",
     "text": [
      "Nhân viên có tên chứa 'Nguyen': [(1, 'Nguyen Van A', 30, 'Ke Toan'), (6, 'Nguyen Thi F', 29, 'Marketing'), (12, 'Nguyen Van L', 28, 'Ke Toan')]\n"
     ]
    }
   ],
   "source": [
    "cursor.execute(\"SELECT * FROM NhanVien WHERE HoTen LIKE '%Nguyen%'\")\n",
    "nguyen_employees = cursor.fetchall()\n",
    "print(\"Nhân viên có tên chứa 'Nguyen':\", nguyen_employees)"
   ]
  }
 ],
 "metadata": {
  "kernelspec": {
   "display_name": "Python 3",
   "language": "python",
   "name": "python3"
  },
  "language_info": {
   "codemirror_mode": {
    "name": "ipython",
    "version": 3
   },
   "file_extension": ".py",
   "mimetype": "text/x-python",
   "name": "python",
   "nbconvert_exporter": "python",
   "pygments_lexer": "ipython3",
   "version": "3.11.9"
  }
 },
 "nbformat": 4,
 "nbformat_minor": 2
}
