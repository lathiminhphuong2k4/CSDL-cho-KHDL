{
 "cells": [
  {
   "cell_type": "code",
   "execution_count": 1,
   "metadata": {},
   "outputs": [],
   "source": [
    "import sqlite3\n",
    "\n",
    "conn = sqlite3.connect('chuong_1.db')\n",
    "\n",
    "cursor = conn.cursor()"
   ]
  },
  {
   "cell_type": "code",
   "execution_count": null,
   "metadata": {},
   "outputs": [
    {
     "data": {
      "text/plain": [
       "<sqlite3.Cursor at 0x19d2208be40>"
      ]
     },
     "execution_count": 4,
     "metadata": {},
     "output_type": "execute_result"
    }
   ],
   "source": [
    "#Tạo một bảng có tên NhanVien\n",
    "cursor.execute('''CREATE TABLE NhanVien(\n",
    "                MaNV INT PRIMARY KEY,\n",
    "                HoTen VarChar(50),\n",
    "                Tuoi INT,\n",
    "                PhongBan INT\n",
    "               )''')"
   ]
  },
  {
   "cell_type": "code",
   "execution_count": null,
   "metadata": {},
   "outputs": [
    {
     "data": {
      "text/plain": [
       "<sqlite3.Cursor at 0x25c4ba34b40>"
      ]
     },
     "execution_count": 3,
     "metadata": {},
     "output_type": "execute_result"
    }
   ],
   "source": [
    "#Chèn bản ghi vào bảng NhanVien\n",
    "cursor.execute(\"\"\"INSERT INTO NhanVien (MaNV, HoTen, Tuoi, PhongBan) VALUES\n",
    "                (1, 'Nguyen Van A', 30, 'Ke Toan'),\n",
    "                (2, 'Tran Thi B', 25, 'Nhan Su'),\n",
    "                (3, 'Le Van C', 28, 'IT'),\n",
    "                (4, 'Pham Thi D', 32, 'Ke Toan'),\n",
    "                (5, 'Vu Van E', 26, 'IT'),\n",
    "                (6, 'Nguyen Thi F', 29, 'Marketing'),\n",
    "                (7, 'Le Thi G', 27, 'Nhan Su'),\n",
    "                (8, 'Hoang Van H', 35, 'Ke Toan'),\n",
    "                (9, 'Pham Van I', 33, 'Marketing'),\n",
    "                (10, 'Tran Van J', 24, 'IT'),\n",
    "                (11, 'Dang Thi K', 31, 'Nhan Su'),\n",
    "                (12, 'Nguyen Van L', 28, 'Ke Toan'),\n",
    "                (13, 'Tran Thi M', 26, 'Marketing'),\n",
    "                (14, 'Pham Van N', 30, 'Nhan Su'),\n",
    "                (15, 'Hoang Thi O', 27, 'IT')\n",
    "               ;\"\"\")\n",
    "conn.commit()"
   ]
  },
  {
   "cell_type": "code",
   "execution_count": 2,
   "metadata": {},
   "outputs": [
    {
     "data": {
      "text/plain": [
       "[(1, 'Nguyen Van A', 30, 'Ke Toan'),\n",
       " (2, 'Tran Thi B', 25, 'Nhan Su'),\n",
       " (3, 'Le Van C', 28, 'IT'),\n",
       " (4, 'Pham Thi D', 32, 'Ke Toan'),\n",
       " (5, 'Vu Van E', 26, 'IT'),\n",
       " (6, 'Nguyen Thi F', 29, 'Marketing'),\n",
       " (7, 'Le Thi G', 27, 'Nhan Su'),\n",
       " (8, 'Hoang Van H', 35, 'Ke Toan'),\n",
       " (9, 'Pham Van I', 33, 'Marketing'),\n",
       " (10, 'Tran Van J', 24, 'IT'),\n",
       " (11, 'Dang Thi K', 31, 'Nhan Su'),\n",
       " (12, 'Nguyen Van L', 28, 'Ke Toan'),\n",
       " (13, 'Tran Thi M', 26, 'Marketing'),\n",
       " (14, 'Pham Van N', 30, 'Nhan Su'),\n",
       " (15, 'Hoang Thi O', 27, 'IT')]"
      ]
     },
     "execution_count": 2,
     "metadata": {},
     "output_type": "execute_result"
    }
   ],
   "source": [
    "#Lấy toàn bộ thông tin của nhân viên trong bảng NhanVien\n",
    "cursor.execute(\"SELECT * FROM NhanVien\")\n",
    "cursor.fetchall()"
   ]
  },
  {
   "cell_type": "code",
   "execution_count": 3,
   "metadata": {},
   "outputs": [
    {
     "data": {
      "text/plain": [
       "[('Le Van C', 28), ('Vu Van E', 26), ('Tran Van J', 24), ('Hoang Thi O', 27)]"
      ]
     },
     "execution_count": 3,
     "metadata": {},
     "output_type": "execute_result"
    }
   ],
   "source": [
    "#Truy vấn HoTen và Tuoi của các nhân viên trong phòng IT\n",
    "cursor.execute(\"SELECT HoTen, Tuoi FROM NhanVien WHERE PhongBan = 'IT'\")\n",
    "cursor.fetchall()"
   ]
  },
  {
   "cell_type": "code",
   "execution_count": 4,
   "metadata": {},
   "outputs": [
    {
     "data": {
      "text/plain": [
       "[(1, 'Nguyen Van A', 30, 'Ke Toan'),\n",
       " (3, 'Le Van C', 28, 'IT'),\n",
       " (4, 'Pham Thi D', 32, 'Ke Toan'),\n",
       " (5, 'Vu Van E', 26, 'IT'),\n",
       " (6, 'Nguyen Thi F', 29, 'Marketing'),\n",
       " (7, 'Le Thi G', 27, 'Nhan Su'),\n",
       " (8, 'Hoang Van H', 35, 'Ke Toan'),\n",
       " (9, 'Pham Van I', 33, 'Marketing'),\n",
       " (11, 'Dang Thi K', 31, 'Nhan Su'),\n",
       " (12, 'Nguyen Van L', 28, 'Ke Toan'),\n",
       " (13, 'Tran Thi M', 26, 'Marketing'),\n",
       " (14, 'Pham Van N', 30, 'Nhan Su'),\n",
       " (15, 'Hoang Thi O', 27, 'IT')]"
      ]
     },
     "execution_count": 4,
     "metadata": {},
     "output_type": "execute_result"
    }
   ],
   "source": [
    "#Tìm nhân viên có tuổi lớn hơn 25\n",
    "cursor.execute(\"SELECT * FROM NhanVien WHERE Tuoi > 25\")\n",
    "cursor.fetchall()"
   ]
  },
  {
   "cell_type": "code",
   "execution_count": 5,
   "metadata": {},
   "outputs": [
    {
     "data": {
      "text/plain": [
       "[('IT', 'Le Van C', 28),\n",
       " ('Ke Toan', 'Hoang Van H', 35),\n",
       " ('Marketing', 'Pham Van I', 33),\n",
       " ('Nhan Su', 'Dang Thi K', 31)]"
      ]
     },
     "execution_count": 5,
     "metadata": {},
     "output_type": "execute_result"
    }
   ],
   "source": [
    "#Cho biết nhân viên lớn tuổi nhất các PhongBan\n",
    "cursor.execute(\"SELECT PhongBan, HoTen ,MAX(Tuoi) FROM NhanVien GROUP BY PhongBan\")\n",
    "cursor.fetchall()"
   ]
  },
  {
   "cell_type": "code",
   "execution_count": null,
   "metadata": {},
   "outputs": [
    {
     "data": {
      "text/plain": [
       "[(3, 'Le Van C', 28, 'Marketing')]"
      ]
     },
     "execution_count": 6,
     "metadata": {},
     "output_type": "execute_result"
    }
   ],
   "source": [
    "#Chuyển đổi thông tin PhongBan của nhân viên “Le Van C” sang “Marketing” \n",
    "cursor.execute(\"UPDATE NhanVien SET PhongBan = 'Marketing' WHERE HoTen = 'Le Van C'\")\n",
    "conn.commit()\n",
    "cursor.execute(\"SELECT * FROM NhanVien WHERE HoTen = 'Le Van C'\")\n",
    "cursor.fetchall()\n"
   ]
  },
  {
   "cell_type": "code",
   "execution_count": 7,
   "metadata": {},
   "outputs": [
    {
     "data": {
      "text/plain": [
       "[('IT', 3), ('Ke Toan', 4), ('Marketing', 4), ('Nhan Su', 3)]"
      ]
     },
     "execution_count": 7,
     "metadata": {},
     "output_type": "execute_result"
    }
   ],
   "source": [
    "#Xoá nhân viên có MaNV = '2' rồi cho biết mỗi phòng ban có bao nhiêu người.\n",
    "cursor.execute(\"DELETE FROM NhanVien WHERE MaNV = 2\")\n",
    "cursor.execute(\"SELECT PhongBan, COUNT(*) FROM NhanVien GROUP BY PhongBan\")\n",
    "cursor.fetchall()"
   ]
  },
  {
   "cell_type": "code",
   "execution_count": 8,
   "metadata": {},
   "outputs": [],
   "source": [
    "conn.close()"
   ]
  }
 ],
 "metadata": {
  "kernelspec": {
   "display_name": "base",
   "language": "python",
   "name": "python3"
  },
  "language_info": {
   "codemirror_mode": {
    "name": "ipython",
    "version": 3
   },
   "file_extension": ".py",
   "mimetype": "text/x-python",
   "name": "python",
   "nbconvert_exporter": "python",
   "pygments_lexer": "ipython3",
   "version": "3.12.3"
  }
 },
 "nbformat": 4,
 "nbformat_minor": 2
}
