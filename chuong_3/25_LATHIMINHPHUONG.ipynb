{
 "cells": [
  {
   "cell_type": "markdown",
   "id": "b4e109a6",
   "metadata": {},
   "source": [
    "### Bài 1:\n"
   ]
  },
  {
   "cell_type": "code",
   "execution_count": 10,
   "id": "a297d734",
   "metadata": {},
   "outputs": [
    {
     "name": "stdout",
     "output_type": "stream",
     "text": [
      "Hệ số tương quan Pearson r(A,B) = 1.0000\n"
     ]
    }
   ],
   "source": [
    "import sqlite3\n",
    "import math\n",
    "\n",
    "# Bước 1: Kết nối tới cơ sở dữ liệu\n",
    "conn = sqlite3.connect('example.db')\n",
    "cursor = conn.cursor()\n",
    "\n",
    "# Bước 2: Tạo bảng dữ liệu mẫu nếu chưa có\n",
    "cursor.execute('''\n",
    "    CREATE TABLE IF NOT EXISTS data (\n",
    "        id INTEGER PRIMARY KEY AUTOINCREMENT,\n",
    "        a REAL,\n",
    "        b REAL\n",
    "    )\n",
    "''')\n",
    "\n",
    "# Bước 3: Thêm dữ liệu mẫu (bạn có thể bỏ qua nếu đã có dữ liệu)\n",
    "sample_data = [(1, 2), (2, 4), (3, 6), (4, 8), (5, 10)]  # Tương quan hoàn hảo\n",
    "cursor.executemany(\"INSERT INTO data (a, b) VALUES (?, ?)\", sample_data)\n",
    "conn.commit()\n",
    "\n",
    "# Bước 4: Lấy các giá trị cần thiết từ SQL\n",
    "cursor.execute('''\n",
    "    SELECT \n",
    "        COUNT(*) as n,\n",
    "        SUM(a) as sum_a,\n",
    "        SUM(b) as sum_b,\n",
    "        SUM(a * b) as sum_ab,\n",
    "        SUM(a * a) as sum_a2,\n",
    "        SUM(b * b) as sum_b2\n",
    "    FROM data\n",
    "''')\n",
    "\n",
    "# Bước 5: Lấy dữ liệu từ kết quả truy vấn\n",
    "row = cursor.fetchone()\n",
    "n, sum_a, sum_b, sum_ab, sum_a2, sum_b2 = row\n",
    "\n",
    "# Bước 6: Tính hệ số tương quan r\n",
    "numerator = n * sum_ab - sum_a * sum_b\n",
    "denominator = math.sqrt((n * sum_a2 - sum_a**2) * (n * sum_b2 - sum_b**2))\n",
    "\n",
    "if denominator == 0:\n",
    "    print(\"Không thể tính được hệ số tương quan (mẫu số = 0)\")\n",
    "else:\n",
    "    r = numerator / denominator\n",
    "    print(f\"Hệ số tương quan Pearson r(A,B) = {r:.4f}\")\n",
    "\n",
    "# Bước 7: Đóng kết nối\n",
    "conn.close()\n"
   ]
  },
  {
   "cell_type": "markdown",
   "id": "4b2cb0ac",
   "metadata": {},
   "source": [
    "### Bài 2:"
   ]
  },
  {
   "cell_type": "code",
   "execution_count": null,
   "id": "3cec4186",
   "metadata": {},
   "outputs": [],
   "source": [
    "# câu lệnh sql\n",
    "#DROP TABLE IF EXISTS car_scores;\n",
    "#CREATE TABLE car_scores (\n",
    "#    Day TEXT,\n",
    "#    Car_Model TEXT,\n",
    "#    Score REAL\n",
    "#);\n",
    "\n",
    "#-- Thêm dữ liệu (long format)\n",
    "#INSERT INTO car_scores (Day, Car_Model, Score) VALUES\n",
    "#('Day 1', 'A', 8), ('Day 1', 'B', 9), ('Day 1', 'C', 7),\n",
    "#('Day 2', 'A', 7.5), ('Day 2', 'B', 8.5), ('Day 2', 'C', 7),\n",
    "#('Day 3', 'A', 6), ('Day 3', 'B', 7), ('Day 3', 'C', 6),\n",
    "#('Day 4', 'A', 7), ('Day 4', 'B', 6), ('Day 4', 'C', 5);\n",
    "\n",
    "#-- Tổng điểm theo mẫu xe\n",
    "#SELECT Car_Model, SUM(Score) AS Total_Score FROM car_scores GROUP BY Car_Model;\n",
    "\n",
    "#-- Tổng điểm theo ngày\n",
    "#SELECT Day, SUM(Score) AS Total_Score FROM car_scores GROUP BY Day;\n"
   ]
  },
  {
   "cell_type": "code",
   "execution_count": 12,
   "id": "147fbf0c",
   "metadata": {},
   "outputs": [],
   "source": [
    "import sqlite3\n",
    "import pandas as pd\n",
    "from scipy.stats import chi2_contingency\n",
    "\n",
    "# Tạo kết nối SQLite trong bộ nhớ\n",
    "conn = sqlite3.connect(\":memory:\")\n",
    "cursor = conn.cursor()\n",
    "\n",
    "# Tạo bảng dữ liệu dạng quan hệ\n",
    "cursor.execute(\"\"\"\n",
    "CREATE TABLE car_scores (\n",
    "    Day TEXT,\n",
    "    CarModel TEXT,\n",
    "    Score REAL\n",
    ")\n",
    "\"\"\")\n",
    "\n",
    "# Dữ liệu\n",
    "data = [\n",
    "    ('Day 1', 'A', 8), ('Day 1', 'B', 9), ('Day 1', 'C', 7),\n",
    "    ('Day 2', 'A', 7.5), ('Day 2', 'B', 8.5), ('Day 2', 'C', 7),\n",
    "    ('Day 3', 'A', 6), ('Day 3', 'B', 7), ('Day 3', 'C', 8),\n",
    "    ('Day 4', 'A', 7), ('Day 4', 'B', 6), ('Day 4', 'C', 5),\n",
    "]\n",
    "cursor.executemany(\"INSERT INTO car_scores (Day, CarModel, Score) VALUES (?, ?, ?)\", data)\n",
    "conn.commit()\n"
   ]
  },
  {
   "cell_type": "code",
   "execution_count": 13,
   "id": "e13ed230",
   "metadata": {},
   "outputs": [
    {
     "name": "stdout",
     "output_type": "stream",
     "text": [
      "      Day CarModel  Score ScoreGroup\n",
      "0   Day 1        A    8.0     Medium\n",
      "1   Day 1        B    9.0       High\n",
      "2   Day 1        C    7.0     Medium\n",
      "3   Day 2        A    7.5     Medium\n",
      "4   Day 2        B    8.5       High\n",
      "5   Day 2        C    7.0     Medium\n",
      "6   Day 3        A    6.0        Low\n",
      "7   Day 3        B    7.0     Medium\n",
      "8   Day 3        C    8.0     Medium\n",
      "9   Day 4        A    7.0     Medium\n",
      "10  Day 4        B    6.0        Low\n",
      "11  Day 4        C    5.0        Low\n"
     ]
    }
   ],
   "source": [
    "# Tạo bảng tạm có phân nhóm điểm (Low / Medium / High)\n",
    "query_grouped = \"\"\"\n",
    "SELECT\n",
    "    *,\n",
    "    CASE\n",
    "        WHEN Score <= 6.5 THEN 'Low'\n",
    "        WHEN Score <= 8 THEN 'Medium'\n",
    "        ELSE 'High'\n",
    "    END AS ScoreGroup\n",
    "FROM car_scores\n",
    "\"\"\"\n",
    "\n",
    "df_grouped = pd.read_sql_query(query_grouped, conn)\n",
    "print(df_grouped)\n"
   ]
  },
  {
   "cell_type": "code",
   "execution_count": 14,
   "id": "a03dfae2",
   "metadata": {},
   "outputs": [
    {
     "name": "stdout",
     "output_type": "stream",
     "text": [
      "Bảng tần số theo mẫu xe:\n",
      " ScoreGroup  High  Low  Medium\n",
      "CarModel                     \n",
      "A              0    1       3\n",
      "B              2    1       1\n",
      "C              0    1       3\n",
      "\n",
      "[Kết quả kiểm định theo mẫu xe]\n",
      "Chi-squared = 5.1429, p-value = 0.2730\n"
     ]
    }
   ],
   "source": [
    "# Bảng chéo giữa CarModel và ScoreGroup\n",
    "ct_model = pd.crosstab(df_grouped['CarModel'], df_grouped['ScoreGroup'])\n",
    "print(\"Bảng tần số theo mẫu xe:\\n\", ct_model)\n",
    "\n",
    "# Kiểm định chi bình phương\n",
    "chi2_model, p_model, dof_model, _ = chi2_contingency(ct_model)\n",
    "print(\"\\n[Kết quả kiểm định theo mẫu xe]\")\n",
    "print(f\"Chi-squared = {chi2_model:.4f}, p-value = {p_model:.4f}\")\n"
   ]
  },
  {
   "cell_type": "code",
   "execution_count": 15,
   "id": "dd4de665",
   "metadata": {},
   "outputs": [
    {
     "name": "stdout",
     "output_type": "stream",
     "text": [
      "\n",
      "Bảng tần số theo ngày:\n",
      " ScoreGroup  High  Low  Medium\n",
      "Day                          \n",
      "Day 1          1    0       2\n",
      "Day 2          1    0       2\n",
      "Day 3          0    1       2\n",
      "Day 4          0    2       1\n",
      "\n",
      "[Kết quả kiểm định theo ngày]\n",
      "Chi-squared = 6.0952, p-value = 0.4126\n"
     ]
    }
   ],
   "source": [
    "# Bảng chéo giữa Day và ScoreGroup\n",
    "ct_day = pd.crosstab(df_grouped['Day'], df_grouped['ScoreGroup'])\n",
    "print(\"\\nBảng tần số theo ngày:\\n\", ct_day)\n",
    "\n",
    "# Kiểm định chi bình phương\n",
    "chi2_day, p_day, dof_day, _ = chi2_contingency(ct_day)\n",
    "print(\"\\n[Kết quả kiểm định theo ngày]\")\n",
    "print(f\"Chi-squared = {chi2_day:.4f}, p-value = {p_day:.4f}\")\n"
   ]
  },
  {
   "cell_type": "markdown",
   "id": "f2b386fa",
   "metadata": {},
   "source": [
    "### Bài 3:"
   ]
  },
  {
   "cell_type": "code",
   "execution_count": null,
   "id": "a45851fe",
   "metadata": {},
   "outputs": [],
   "source": [
    "#Câu lệnh sql\n",
    "#SELECT\n",
    "#  departure_time,\n",
    "#  printf('%02d:%02d', departure_time / 100, departure_time % 100) AS formatted_time\n",
    "#FROM flights;\n"
   ]
  },
  {
   "cell_type": "code",
   "execution_count": 16,
   "id": "f7262aa9",
   "metadata": {},
   "outputs": [
    {
     "name": "stdout",
     "output_type": "stream",
     "text": [
      "   departure_time formatted_time\n",
      "0             830          08:30\n",
      "1            1445          14:45\n",
      "2               0          00:00\n",
      "3              55          00:55\n",
      "4             123          01:23\n",
      "5            2359          23:59\n"
     ]
    }
   ],
   "source": [
    "import sqlite3\n",
    "import pandas as pd\n",
    "\n",
    "# Kết nối đến CSDL SQLite\n",
    "conn = sqlite3.connect('flights.db')\n",
    "cursor = conn.cursor()\n",
    "\n",
    "# Tạo bảng flights và thêm dữ liệu mẫu\n",
    "cursor.execute('''\n",
    "    CREATE TABLE IF NOT EXISTS flights (\n",
    "        id INTEGER PRIMARY KEY AUTOINCREMENT,\n",
    "        departure_time INTEGER\n",
    "    )\n",
    "''')\n",
    "\n",
    "# Xóa dữ liệu cũ (nếu có) và thêm mới\n",
    "cursor.execute(\"DELETE FROM flights\")\n",
    "sample_times = [(830,), (1445,), (0,), (55,), (123,), (2359,)]\n",
    "cursor.executemany(\"INSERT INTO flights (departure_time) VALUES (?)\", sample_times)\n",
    "conn.commit()\n",
    "\n",
    "# Truy vấn SQL để chuyển departure_time thành định dạng HH:MM\n",
    "query = '''\n",
    "SELECT \n",
    "    departure_time,\n",
    "    printf('%02d:%02d', departure_time / 100, departure_time % 100) AS formatted_time\n",
    "FROM flights\n",
    "'''\n",
    "\n",
    "# Đọc dữ liệu thành DataFrame\n",
    "df = pd.read_sql_query(query, conn)\n",
    "print(df)\n"
   ]
  },
  {
   "cell_type": "markdown",
   "id": "46218662",
   "metadata": {},
   "source": [
    "### Bài 4:\n"
   ]
  },
  {
   "cell_type": "code",
   "execution_count": null,
   "id": "1eee78a2",
   "metadata": {},
   "outputs": [],
   "source": [
    "#Câu lệnh sql\n",
    "#-- Tính toán Trung vị (Median)\n",
    "#WITH Median AS (\n",
    "#    SELECT value\n",
    "#    FROM data\n",
    "#    ORDER BY value\n",
    "#    LIMIT 1 OFFSET (SELECT FLOOR(COUNT(*) / 2) FROM data)\n",
    "#),\n",
    "\n",
    "#-- Tính độ lệch tuyệt đối từ Trung vị\n",
    "#AbsoluteDeviations AS (\n",
    "#    SELECT\n",
    "#        value,\n",
    "#        ABS(value - (SELECT value FROM Median)) AS abs_deviation\n",
    "#    FROM data\n",
    "#),\n",
    "\n",
    "#-- Tính toán MAD (trung vị của các độ lệch tuyệt đối)\n",
    "#MAD AS (\n",
    "#    SELECT\n",
    "#        abs_deviation\n",
    "#    FROM AbsoluteDeviations\n",
    "#    ORDER BY abs_deviation\n",
    "#    LIMIT 1 OFFSET (SELECT FLOOR(COUNT(*) / 2) FROM AbsoluteDeviations)\n",
    "#)\n",
    "\n",
    "#-- Lọc các ngoại lệ\n",
    "#SELECT value\n",
    "#FROM AbsoluteDeviations\n",
    "#WHERE abs_deviation > 1.5 * (SELECT abs_deviation FROM MAD);\n"
   ]
  },
  {
   "cell_type": "code",
   "execution_count": 18,
   "id": "b02d3c44",
   "metadata": {},
   "outputs": [
    {
     "name": "stdout",
     "output_type": "stream",
     "text": [
      "Bảng và dữ liệu mẫu đã được chèn vào cơ sở dữ liệu.\n"
     ]
    }
   ],
   "source": [
    "import sqlite3\n",
    "\n",
    "# Kết nối đến SQLite\n",
    "conn = sqlite3.connect(\"du_lieu.db\")\n",
    "\n",
    "# Tạo bảng dữ liệu nếu chưa tồn tại\n",
    "conn.execute('''\n",
    "CREATE TABLE IF NOT EXISTS data_table (\n",
    "    id INTEGER PRIMARY KEY,\n",
    "    value REAL\n",
    ");\n",
    "''')\n",
    "\n",
    "# Chèn dữ liệu mẫu vào bảng\n",
    "conn.execute(\"INSERT INTO data_table (value) VALUES (10.5), (20.5), (15.5), (100), (2), (50), (3.5)\")\n",
    "\n",
    "# Commit các thay đổi và đóng kết nối\n",
    "conn.commit()\n",
    "conn.close()\n",
    "\n",
    "print(\"Bảng và dữ liệu mẫu đã được chèn vào cơ sở dữ liệu.\")\n"
   ]
  },
  {
   "cell_type": "code",
   "execution_count": 20,
   "id": "71af3c89",
   "metadata": {},
   "outputs": [
    {
     "name": "stdout",
     "output_type": "stream",
     "text": [
      "Các giá trị ngoại lệ:\n",
      "   id  value  abs_dev\n",
      "3   4  100.0     84.5\n",
      "5   6   50.0     34.5\n"
     ]
    }
   ],
   "source": [
    "import sqlite3\n",
    "import pandas as pd\n",
    "\n",
    "# Kết nối đến SQLite database\n",
    "conn = sqlite3.connect(\"du_lieu.db\")\n",
    "\n",
    "# Đọc dữ liệu từ bảng vào DataFrame\n",
    "df = pd.read_sql_query(\"SELECT * FROM data_table\", conn)\n",
    "\n",
    "# Tính median và MAD (Median Absolute Deviation)\n",
    "median = df['value'].median()  # Tính giá trị trung vị (median) của cột 'value'\n",
    "mad = (df['value'] - median).abs().median()  # Tính MAD\n",
    "\n",
    "# Tạo cột độ lệch tuyệt đối\n",
    "df['abs_dev'] = (df['value'] - median).abs()\n",
    "\n",
    "# Tìm các giá trị ngoại lệ (các giá trị có độ lệch > 1.5 * MAD)\n",
    "outliers = df[df['abs_dev'] > 1.5 * mad]\n",
    "\n",
    "# Hiển thị các giá trị ngoại lệ\n",
    "print(\"Các giá trị ngoại lệ:\")\n",
    "print(outliers)\n",
    "\n",
    "# Đóng kết nối\n",
    "conn.close()\n"
   ]
  },
  {
   "cell_type": "markdown",
   "id": "da1d0fd8",
   "metadata": {},
   "source": [
    "### Bài 5:"
   ]
  },
  {
   "cell_type": "code",
   "execution_count": 21,
   "id": "a30971da",
   "metadata": {},
   "outputs": [
    {
     "name": "stdout",
     "output_type": "stream",
     "text": [
      "  last_name_1  weight_1 last_name_2  weight_2         comparison_result\n",
      "0      Nguyen      70.0      Nguyen      71.0  Possibly the same person\n",
      "1      Nguyen      70.0        Tran      70.5          Different person\n",
      "2      Nguyen      70.0       Hoang      65.0          Different person\n",
      "3      Nguyen      71.0        Tran      70.5          Different person\n",
      "4      Nguyen      71.0       Hoang      65.0          Different person\n",
      "5        Tran      70.5       Hoang      65.0          Different person\n"
     ]
    }
   ],
   "source": [
    "import sqlite3\n",
    "import pandas as pd\n",
    "\n",
    "# Kết nối tới cơ sở dữ liệu SQLite\n",
    "conn = sqlite3.connect('du_lieu_2.db')  # Đổi 'du_lieu.db' thành tên cơ sở dữ liệu của bạn\n",
    "\n",
    "# Tạo bảng và chèn dữ liệu mẫu (nếu chưa có bảng)\n",
    "conn.execute('''\n",
    "CREATE TABLE IF NOT EXISTS Patient (\n",
    "    id INTEGER PRIMARY KEY,\n",
    "    last_name TEXT,\n",
    "    weight REAL,\n",
    "    height REAL\n",
    ");\n",
    "''')\n",
    "\n",
    "# Chèn dữ liệu mẫu (bỏ qua nếu đã có dữ liệu trong bảng)\n",
    "conn.execute(\"INSERT INTO Patient (last_name, weight, height) VALUES ('Nguyen', 70.0, 175.0)\")\n",
    "conn.execute(\"INSERT INTO Patient (last_name, weight, height) VALUES ('Nguyen', 71.0, 180.0)\")\n",
    "conn.execute(\"INSERT INTO Patient (last_name, weight, height) VALUES ('Tran', 70.5, 165.0)\")\n",
    "conn.execute(\"INSERT INTO Patient (last_name, weight, height) VALUES ('Hoang', 65.0, 160.0)\")\n",
    "conn.commit()\n",
    "\n",
    "# Truy vấn để so sánh các bệnh nhân\n",
    "query = \"\"\"\n",
    "SELECT \n",
    "    p1.last_name AS last_name_1,\n",
    "    p1.weight AS weight_1,\n",
    "    p2.last_name AS last_name_2,\n",
    "    p2.weight AS weight_2,\n",
    "    CASE \n",
    "        WHEN p1.last_name = p2.last_name AND \n",
    "             ABS(p1.weight - p2.weight) <= 0.05 * p1.weight THEN 'Possibly the same person'\n",
    "        ELSE 'Different person'\n",
    "    END AS comparison_result\n",
    "FROM \n",
    "    Patient p1\n",
    "JOIN \n",
    "    Patient p2\n",
    "ON \n",
    "    p1.id < p2.id;\n",
    "\"\"\"\n",
    "\n",
    "# Đọc kết quả vào DataFrame\n",
    "df = pd.read_sql_query(query, conn)\n",
    "\n",
    "# Hiển thị kết quả\n",
    "print(df)\n",
    "\n",
    "# Đóng kết nối\n",
    "conn.close()\n"
   ]
  }
 ],
 "metadata": {
  "kernelspec": {
   "display_name": "Python 3",
   "language": "python",
   "name": "python3"
  },
  "language_info": {
   "codemirror_mode": {
    "name": "ipython",
    "version": 3
   },
   "file_extension": ".py",
   "mimetype": "text/x-python",
   "name": "python",
   "nbconvert_exporter": "python",
   "pygments_lexer": "ipython3",
   "version": "3.9.0"
  }
 },
 "nbformat": 4,
 "nbformat_minor": 5
}
